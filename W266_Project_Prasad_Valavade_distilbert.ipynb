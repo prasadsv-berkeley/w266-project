{
 "cells": [
  {
   "cell_type": "code",
   "execution_count": 1,
   "metadata": {},
   "outputs": [],
   "source": [
    "# Import all required libraries\n",
    "import re\n",
    "import numpy as np\n",
    "import pandas as pd\n",
    "import math\n",
    "import random\n",
    "import tensorflow as tf\n",
    "from tensorflow.keras import layers\n",
    "import bert\n",
    "from transformers import DistilBertTokenizer, RobertaTokenizer, TFRobertaModel,RobertaConfig\n",
    "from transformers import AutoTokenizer, AutoModel, pipeline, TFDistilBertModel, DistilBertConfig\n",
    "from sklearn.model_selection import train_test_split\n",
    "import os"
   ]
  },
  {
   "cell_type": "code",
   "execution_count": 2,
   "metadata": {},
   "outputs": [
    {
     "data": {
      "text/plain": [
       "<bound method NDFrame.head of      Record Id Category                                        Description  \\\n",
       "0          101   Yellow  Sample Name: A 5-month-old boy with cough\\nDes...   \n",
       "1          102   Yellow  Sample Name: Abdominal Pain - Consult\\nDescrip...   \n",
       "2          103   Yellow  Sample Name: Abnormal Echocardiogram\\nDescript...   \n",
       "3          104      Red  Sample Name: Abnormal Stress Test\\nDescription...   \n",
       "4          105   Yellow  Sample Name: Abrasions & Lacerations - ER Visi...   \n",
       "..         ...      ...                                                ...   \n",
       "511       5202     Blue  Sample Name: Well-Child Check - 7\\n\\nDescripti...   \n",
       "512       5203     Blue  Sample Name: Well-woman checkup\\n\\nDescription...   \n",
       "513       5204    Green  Sample Name: Worker's Compensation Injury\\n\\nD...   \n",
       "514       5205   Yellow  Sample Name: Wound Care Consult\\n\\nDescription...   \n",
       "515       5206   Yellow  Sample Name: Wrist Pain\\n\\nDescription: Consul...   \n",
       "\n",
       "                                                  Plan  \n",
       "0    ASSESSMENT: A 5-month-old male with 2 days of ...  \n",
       "1    DIAGNOSTIC STUDIES: EKG shows normal sinus rhy...  \n",
       "2    IMPRESSION:\\n1. The patient admitted for gastr...  \n",
       "3    CONDITION ON TRANSFER: Stable but guarded. The...  \n",
       "4    \\n\\nPLANS/RECOMMENDATIONS: Admitted for observ...  \n",
       "..                                                 ...  \n",
       "511  ASSESSMENT: Well child check.\\n\\nPLAN:\\n1. Die...  \n",
       "512  ASSESSMENT: Middle-aged woman  status post hys...  \n",
       "513  ASSESSMENT: Blunt trauma to the distal right t...  \n",
       "514  SUMMARY: In summary  the patient is a 62-year-...  \n",
       "515  EVALUATION/TREATMENT PLAN: The MRI is consiste...  \n",
       "\n",
       "[516 rows x 4 columns]>"
      ]
     },
     "execution_count": 2,
     "metadata": {},
     "output_type": "execute_result"
    }
   ],
   "source": [
    "# Reading the data\n",
    "df = pd.read_csv(\"clinicalnotes.csv\")\n",
    "df.head"
   ]
  },
  {
   "cell_type": "code",
   "execution_count": 3,
   "metadata": {},
   "outputs": [
    {
     "data": {
      "text/plain": [
       "<bound method NDFrame.head of      Record Id Category                                        Description  \\\n",
       "0          101   Yellow  Sample Name: A 5-month-old boy with cough\\nDes...   \n",
       "1          102   Yellow  Sample Name: Abdominal Pain - Consult\\nDescrip...   \n",
       "2          103   Yellow  Sample Name: Abnormal Echocardiogram\\nDescript...   \n",
       "3          104      Red  Sample Name: Abnormal Stress Test\\nDescription...   \n",
       "4          105   Yellow  Sample Name: Abrasions & Lacerations - ER Visi...   \n",
       "..         ...      ...                                                ...   \n",
       "511       5202     Blue  Sample Name: Well-Child Check - 7\\n\\nDescripti...   \n",
       "512       5203     Blue  Sample Name: Well-woman checkup\\n\\nDescription...   \n",
       "513       5204    Green  Sample Name: Worker's Compensation Injury\\n\\nD...   \n",
       "514       5205   Yellow  Sample Name: Wound Care Consult\\n\\nDescription...   \n",
       "515       5206   Yellow  Sample Name: Wrist Pain\\n\\nDescription: Consul...   \n",
       "\n",
       "                                                  Plan  Blue  Green  Orange  \\\n",
       "0    ASSESSMENT: A 5-month-old male with 2 days of ...     0      0       0   \n",
       "1    DIAGNOSTIC STUDIES: EKG shows normal sinus rhy...     0      0       0   \n",
       "2    IMPRESSION:\\n1. The patient admitted for gastr...     0      0       0   \n",
       "3    CONDITION ON TRANSFER: Stable but guarded. The...     0      0       0   \n",
       "4    \\n\\nPLANS/RECOMMENDATIONS: Admitted for observ...     0      0       0   \n",
       "..                                                 ...   ...    ...     ...   \n",
       "511  ASSESSMENT: Well child check.\\n\\nPLAN:\\n1. Die...     1      0       0   \n",
       "512  ASSESSMENT: Middle-aged woman  status post hys...     1      0       0   \n",
       "513  ASSESSMENT: Blunt trauma to the distal right t...     0      1       0   \n",
       "514  SUMMARY: In summary  the patient is a 62-year-...     0      0       0   \n",
       "515  EVALUATION/TREATMENT PLAN: The MRI is consiste...     0      0       0   \n",
       "\n",
       "     Red  Yellow  \n",
       "0      0       1  \n",
       "1      0       1  \n",
       "2      0       1  \n",
       "3      1       0  \n",
       "4      0       1  \n",
       "..   ...     ...  \n",
       "511    0       0  \n",
       "512    0       0  \n",
       "513    0       0  \n",
       "514    0       1  \n",
       "515    0       1  \n",
       "\n",
       "[516 rows x 9 columns]>"
      ]
     },
     "execution_count": 3,
     "metadata": {},
     "output_type": "execute_result"
    }
   ],
   "source": [
    "category_dummies = pd.get_dummies(df.Category)\n",
    "new_df = pd.concat([df, category_dummies], axis=1)\n",
    "new_df.head"
   ]
  },
  {
   "cell_type": "code",
   "execution_count": 4,
   "metadata": {},
   "outputs": [],
   "source": [
    "final_df = new_df[['Description', 'Blue','Green','Orange','Red','Yellow']]\n",
    "# Splitting data into training and testing\n",
    "train, test = train_test_split(final_df, test_size=0.2, random_state=42, shuffle=True)"
   ]
  },
  {
   "cell_type": "code",
   "execution_count": 5,
   "metadata": {},
   "outputs": [],
   "source": [
    "## Function to clean the data\n",
    "def clean_data(record):\n",
    "    # Removing the first few header lines\n",
    "    record = re.sub(r\"Sample Name: .*\\n\", '', record)\n",
    "    record = re.sub(r\"Description: .*\\n\", '', record)\n",
    "    record = re.sub(r\"\\(Medical Transcription Sample Report\\)\\n\", '', record)\n",
    "    # Removing additional some special characters, whitespaces and end of lines\n",
    "    #record = re.sub(\" \\d+\", \" \", record)\n",
    "    record = re.sub(r\"[-:]+\", ' ', record)\n",
    "    record = re.sub(r\"\\n+\", ' ', record)\n",
    "    record = re.sub(r\" +\", ' ', record)\n",
    "    return record"
   ]
  },
  {
   "cell_type": "code",
   "execution_count": 6,
   "metadata": {},
   "outputs": [],
   "source": [
    "##### Commenting out ClinicalBert. Using DistilBERT instead\n",
    "#tokenizer = AutoTokenizer.from_pretrained(\"emilyalsentzer/Bio_ClinicalBERT\")\n",
    "#model = AutoModel.from_pretrained(\"emilyalsentzer/Bio_ClinicalBERT\")\n",
    "bert_to_be_used = 'distilbert-base-uncased'\n",
    "#bert_to_be_used = 'roberta-base'\n",
    "# Defining DistilBERT tokonizer\n",
    "tokenizer = DistilBertTokenizer.from_pretrained(bert_to_be_used, do_lower_case=True, add_special_tokens=True,\n",
    "                                              max_length=512, pad_to_max_length=True)\n",
    "#tokenizer = RobertaTokenizer.from_pretrained(bert_to_be_used, do_lower_case=True, add_special_tokens=True,\n",
    "#                                                max_length=512, pad_to_max_length=True)\n",
    "\n"
   ]
  },
  {
   "cell_type": "code",
   "execution_count": 7,
   "metadata": {},
   "outputs": [],
   "source": [
    "def tokenize(sentences, tokenizer):\n",
    "    input_ids, input_masks, input_segments = [],[],[]\n",
    "    for sentence in sentences:\n",
    "        sentence = clean_data(sentence)\n",
    "        inputs = tokenizer.encode_plus(sentence, add_special_tokens=True, max_length=512, pad_to_max_length=True, \n",
    "                                                 return_attention_mask=True, return_token_type_ids=True,truncation=True)\n",
    "        input_ids.append(inputs['input_ids'])\n",
    "        input_masks.append(inputs['attention_mask'])\n",
    "        input_segments.append(inputs['token_type_ids'])        \n",
    "\n",
    "    return np.asarray(input_ids, dtype='int32'), np.asarray(input_masks, dtype='int32'), np.asarray(input_segments, dtype='int32')"
   ]
  },
  {
   "cell_type": "code",
   "execution_count": 8,
   "metadata": {},
   "outputs": [],
   "source": [
    "## Convert input text data into tokens\n",
    "def convert_text_data(Description):\n",
    "    x,y,z = tokenize(Description,tokenizer)\n",
    "    return x,y"
   ]
  },
  {
   "cell_type": "code",
   "execution_count": 9,
   "metadata": {},
   "outputs": [],
   "source": [
    "## Function for label data\n",
    "def label_data(ds):\n",
    "    Y = []\n",
    "    for i in ds.index:\n",
    "        #print(ds.index)\n",
    "        labels = [ds.Blue[i],ds.Green[i],ds.Orange[i],ds.Red[i],ds.Yellow[i]]\n",
    "        Y.append(labels)\n",
    "    return np.array(Y)"
   ]
  },
  {
   "cell_type": "code",
   "execution_count": 10,
   "metadata": {},
   "outputs": [],
   "source": [
    "#Preparing input data for training and testing\n",
    "train_X_ids,train_X_masks = convert_text_data(train.Description)\n",
    "test_X_ids,test_X_masks = convert_text_data (test.Description)"
   ]
  },
  {
   "cell_type": "code",
   "execution_count": 11,
   "metadata": {},
   "outputs": [],
   "source": [
    "#Preparing label data for training and testing\n",
    "train_Y = label_data(train)\n",
    "test_Y = label_data(test)"
   ]
  },
  {
   "cell_type": "code",
   "execution_count": 12,
   "metadata": {},
   "outputs": [
    {
     "name": "stderr",
     "output_type": "stream",
     "text": [
      "Some weights of the model checkpoint at distilbert-base-uncased were not used when initializing TFDistilBertModel: ['vocab_layer_norm', 'vocab_transform', 'activation_13', 'vocab_projector']\n",
      "- This IS expected if you are initializing TFDistilBertModel from the checkpoint of a model trained on another task or with another architecture (e.g. initializing a BertForSequenceClassification model from a BertForPretraining model).\n",
      "- This IS NOT expected if you are initializing TFDistilBertModel from the checkpoint of a model that you expect to be exactly identical (initializing a BertForSequenceClassification model from a BertForSequenceClassification model).\n",
      "All the weights of TFDistilBertModel were initialized from the model checkpoint at distilbert-base-uncased.\n",
      "If your task is similar to the task the model of the ckeckpoint was trained on, you can already use TFDistilBertModel for predictions without further training.\n"
     ]
    },
    {
     "name": "stdout",
     "output_type": "stream",
     "text": [
      "Model: \"model\"\n",
      "__________________________________________________________________________________________________\n",
      "Layer (type)                    Output Shape         Param #     Connected to                     \n",
      "==================================================================================================\n",
      "input_token (InputLayer)        [(None, 512)]        0                                            \n",
      "__________________________________________________________________________________________________\n",
      "masked_token (InputLayer)       [(None, 512)]        0                                            \n",
      "__________________________________________________________________________________________________\n",
      "tf_distil_bert_model (TFDistilB ((None, 512, 768),)  66362880    input_token[0][0]                \n",
      "__________________________________________________________________________________________________\n",
      "bidirectional (Bidirectional)   (None, 512, 1024)    5246976     tf_distil_bert_model[0][0]       \n",
      "__________________________________________________________________________________________________\n",
      "global_max_pooling1d (GlobalMax (None, 1024)         0           bidirectional[0][0]              \n",
      "__________________________________________________________________________________________________\n",
      "dense (Dense)                   (None, 512)          524800      global_max_pooling1d[0][0]       \n",
      "__________________________________________________________________________________________________\n",
      "dropout_19 (Dropout)            (None, 512)          0           dense[0][0]                      \n",
      "__________________________________________________________________________________________________\n",
      "dense_1 (Dense)                 (None, 5)            2565        dropout_19[0][0]                 \n",
      "==================================================================================================\n",
      "Total params: 72,137,221\n",
      "Trainable params: 5,774,341\n",
      "Non-trainable params: 66,362,880\n",
      "__________________________________________________________________________________________________\n",
      "None\n",
      "Train on 412 samples, validate on 104 samples\n",
      "Epoch 1/15\n",
      "384/412 [==========================>...] - ETA: 26s - loss: 1.8224 - accuracy: 0.2891\n",
      "Epoch 00001: val_accuracy improved from -inf to 0.35577, saving model to /Users/prasadvalavade/Documents/UC Berkeley/W266/Project/model-001.h5\n",
      "412/412 [==============================] - 439s 1s/sample - loss: 1.8116 - accuracy: 0.2791 - val_loss: 1.4856 - val_accuracy: 0.3558\n",
      "Epoch 2/15\n",
      "384/412 [==========================>...] - ETA: 1:02 - loss: 1.4481 - accuracy: 0.3333\n",
      "Epoch 00002: val_accuracy improved from 0.35577 to 0.43269, saving model to /Users/prasadvalavade/Documents/UC Berkeley/W266/Project/model-002.h5\n",
      "412/412 [==============================] - 930s 2s/sample - loss: 1.4498 - accuracy: 0.3252 - val_loss: 1.4389 - val_accuracy: 0.4327\n",
      "Epoch 3/15\n",
      "384/412 [==========================>...] - ETA: 26s - loss: 1.3646 - accuracy: 0.3906\n",
      "Epoch 00003: val_accuracy did not improve from 0.43269\n",
      "412/412 [==============================] - 426s 1s/sample - loss: 1.3755 - accuracy: 0.3859 - val_loss: 1.3961 - val_accuracy: 0.4038\n",
      "Epoch 4/15\n",
      "384/412 [==========================>...] - ETA: 25s - loss: 1.2906 - accuracy: 0.4792\n",
      "Epoch 00004: val_accuracy did not improve from 0.43269\n",
      "412/412 [==============================] - 417s 1s/sample - loss: 1.2957 - accuracy: 0.4709 - val_loss: 1.3926 - val_accuracy: 0.3942\n",
      "Epoch 5/15\n",
      "384/412 [==========================>...] - ETA: 28s - loss: 1.2396 - accuracy: 0.4609 \n",
      "Epoch 00005: val_accuracy did not improve from 0.43269\n",
      "412/412 [==============================] - 460s 1s/sample - loss: 1.2289 - accuracy: 0.4806 - val_loss: 1.3773 - val_accuracy: 0.3942\n",
      "Epoch 6/15\n",
      "384/412 [==========================>...] - ETA: 28s - loss: 1.1877 - accuracy: 0.5312 \n",
      "Epoch 00006: val_accuracy improved from 0.43269 to 0.51923, saving model to /Users/prasadvalavade/Documents/UC Berkeley/W266/Project/model-006.h5\n",
      "412/412 [==============================] - 474s 1s/sample - loss: 1.1706 - accuracy: 0.5388 - val_loss: 1.2054 - val_accuracy: 0.5192\n",
      "Epoch 7/15\n",
      "384/412 [==========================>...] - ETA: 28s - loss: 1.0658 - accuracy: 0.5443 \n",
      "Epoch 00007: val_accuracy did not improve from 0.51923\n",
      "412/412 [==============================] - 461s 1s/sample - loss: 1.0494 - accuracy: 0.5583 - val_loss: 1.3172 - val_accuracy: 0.5000\n",
      "Epoch 8/15\n",
      "384/412 [==========================>...] - ETA: 27s - loss: 1.0106 - accuracy: 0.5781\n",
      "Epoch 00008: val_accuracy did not improve from 0.51923\n",
      "412/412 [==============================] - 456s 1s/sample - loss: 0.9975 - accuracy: 0.5825 - val_loss: 1.3206 - val_accuracy: 0.4519\n",
      "Epoch 9/15\n",
      "384/412 [==========================>...] - ETA: 28s - loss: 0.9409 - accuracy: 0.5990 \n",
      "Epoch 00009: val_accuracy improved from 0.51923 to 0.52885, saving model to /Users/prasadvalavade/Documents/UC Berkeley/W266/Project/model-009.h5\n",
      "412/412 [==============================] - 465s 1s/sample - loss: 0.9338 - accuracy: 0.6044 - val_loss: 1.1646 - val_accuracy: 0.5288\n",
      "Epoch 10/15\n",
      "384/412 [==========================>...] - ETA: 27s - loss: 0.8815 - accuracy: 0.6432\n",
      "Epoch 00010: val_accuracy did not improve from 0.52885\n",
      "412/412 [==============================] - 457s 1s/sample - loss: 0.9032 - accuracy: 0.6311 - val_loss: 1.2365 - val_accuracy: 0.4808\n",
      "Epoch 11/15\n",
      "384/412 [==========================>...] - ETA: 28s - loss: 0.7795 - accuracy: 0.7214 \n",
      "Epoch 00011: val_accuracy improved from 0.52885 to 0.53846, saving model to /Users/prasadvalavade/Documents/UC Berkeley/W266/Project/model-011.h5\n",
      "412/412 [==============================] - 470s 1s/sample - loss: 0.7824 - accuracy: 0.7136 - val_loss: 1.2851 - val_accuracy: 0.5385\n",
      "Epoch 12/15\n",
      "384/412 [==========================>...] - ETA: 28s - loss: 0.6733 - accuracy: 0.7604 \n",
      "Epoch 00012: val_accuracy did not improve from 0.53846\n",
      "412/412 [==============================] - 465s 1s/sample - loss: 0.6706 - accuracy: 0.7597 - val_loss: 1.3891 - val_accuracy: 0.4808\n",
      "Epoch 13/15\n",
      "384/412 [==========================>...] - ETA: 29s - loss: 0.5789 - accuracy: 0.7943 \n",
      "Epoch 00013: val_accuracy did not improve from 0.53846\n",
      "412/412 [==============================] - 478s 1s/sample - loss: 0.5767 - accuracy: 0.7937 - val_loss: 1.3480 - val_accuracy: 0.5192\n",
      "Epoch 14/15\n",
      "384/412 [==========================>...] - ETA: 28s - loss: 0.5086 - accuracy: 0.8151 \n",
      "Epoch 00014: val_accuracy did not improve from 0.53846\n",
      "412/412 [==============================] - 478s 1s/sample - loss: 0.5007 - accuracy: 0.8204 - val_loss: 1.6709 - val_accuracy: 0.4904\n",
      "Epoch 15/15\n",
      "384/412 [==========================>...] - ETA: 31s - loss: 0.4898 - accuracy: 0.8177 \n",
      "Epoch 00015: val_accuracy did not improve from 0.53846\n",
      "412/412 [==============================] - 506s 1s/sample - loss: 0.4814 - accuracy: 0.8228 - val_loss: 1.4578 - val_accuracy: 0.5096\n"
     ]
    }
   ],
   "source": [
    "distil_bert = 'distilbert-base-uncased'\n",
    "\n",
    "config = DistilBertConfig(dropout=0.2, attention_dropout=0.2)\n",
    "config.output_hidden_states = False\n",
    "transformer_model = TFDistilBertModel.from_pretrained(distil_bert, config = config)\n",
    "\n",
    "input_ids_in = tf.keras.layers.Input(shape=(512,), name='input_token', dtype='int32')\n",
    "input_masks_in = tf.keras.layers.Input(shape=(512,), name='masked_token', dtype='int32') \n",
    "\n",
    "embedding_layer = transformer_model(input_ids_in, attention_mask=input_masks_in)[0]\n",
    "X = tf.keras.layers.Bidirectional(tf.keras.layers.LSTM(512, return_sequences=True, dropout=0.1, recurrent_dropout=0.1))(embedding_layer)\n",
    "X = tf.keras.layers.GlobalMaxPool1D()(X)\n",
    "X = tf.keras.layers.Dense(512, activation='relu')(X)\n",
    "X = tf.keras.layers.Dropout(0.2)(X)\n",
    "X = tf.keras.layers.Dense(5, activation='softmax')(X)\n",
    "model = tf.keras.Model(inputs=[input_ids_in, input_masks_in], outputs = X)\n",
    "\n",
    "for layer in model.layers[:3]:\n",
    "  layer.trainable = False\n",
    "print(model.summary())\n",
    "model.compile(loss='categorical_crossentropy', optimizer=tf.optimizers.Adam(lr=0.001), metrics=['accuracy'])\n",
    "BASE_DIR = os.getcwd()\n",
    "checkpointName = os.path.join(BASE_DIR, \"model-{epoch:03d}.h5\")\n",
    "cp_callback = tf.keras.callbacks.ModelCheckpoint(filepath=checkpointName,\n",
    "                                                     save_weights_only=True,\n",
    "                                                     monitor='val_accuracy',\n",
    "                                                     save_best_only=True,\n",
    "                                                     verbose=1)\n",
    "history = model.fit(\n",
    "        [train_X_ids,train_X_masks],\n",
    "        train_Y,\n",
    "        epochs=15,\n",
    "        validation_data=([test_X_ids,test_X_masks],test_Y),\n",
    "        verbose=1,\n",
    "        callbacks=[cp_callback])"
   ]
  },
  {
   "cell_type": "code",
   "execution_count": null,
   "metadata": {},
   "outputs": [],
   "source": [
    "checkpoint = ModelCheckpoint('model-{epoch:03d}-{acc:03f}-{val_acc:03f}.h5', verbose=1, \n",
    "                             monitor='val_loss',save_best_only=True, mode='auto')"
   ]
  },
  {
   "cell_type": "code",
   "execution_count": 13,
   "metadata": {},
   "outputs": [],
   "source": [
    "# Defining a function here that will plot loss, val_loss, binary_accuracy, and val_binary_accuracy over all of \n",
    "# your epochs: \n",
    "%matplotlib inline\n",
    "import matplotlib.pyplot as plt\n",
    "def plot_history(history):\n",
    "    N = len(history.history[\"loss\"])\n",
    "    plt.style.use(\"ggplot\")\n",
    "    plt.figure()\n",
    "    plt.plot(np.arange(0, N), history.history[\"loss\"], label=\"train_loss\")\n",
    "    plt.plot(np.arange(0, N), history.history[\"val_loss\"], label=\"val_loss\")\n",
    "    plt.plot(np.arange(0, N), history.history[\"accuracy\"], label=\"train_acc\")\n",
    "    plt.plot(np.arange(0, N), history.history[\"val_accuracy\"], label=\"val_acc\")\n",
    "    plt.title(\"Training Loss and Accuracy on Dataset\")\n",
    "    plt.xlabel(\"Epoch #\")\n",
    "    plt.ylabel(\"Loss/Accuracy\")\n",
    "    plt.legend(loc=\"lower left\")\n",
    "    pass"
   ]
  },
  {
   "cell_type": "code",
   "execution_count": 14,
   "metadata": {},
   "outputs": [
    {
     "data": {
      "image/png": "[encoded data removed]",
      "text/plain": [
       "<Figure size 432x288 with 1 Axes>"
      ]
     },
     "metadata": {},
     "output_type": "display_data"
    }
   ],
   "source": [
    "plot_history(history)"
   ]
  },
  {
   "cell_type": "code",
   "execution_count": null,
   "metadata": {},
   "outputs": [],
   "source": []
  },
  {
   "cell_type": "code",
   "execution_count": null,
   "metadata": {},
   "outputs": [],
   "source": []
  }
 ],
 "metadata": {
  "kernelspec": {
   "display_name": "Python 3",
   "language": "python",
   "name": "python3"
  },
  "language_info": {
   "codemirror_mode": {
    "name": "ipython",
    "version": 3
   },
   "file_extension": ".py",
   "mimetype": "text/x-python",
   "name": "python",
   "nbconvert_exporter": "python",
   "pygments_lexer": "ipython3",
   "version": "3.7.7"
  }
 },
 "nbformat": 4,
 "nbformat_minor": 4
}
