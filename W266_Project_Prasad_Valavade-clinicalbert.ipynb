{
 "cells": [
  {
   "cell_type": "code",
   "execution_count": 1,
   "metadata": {},
   "outputs": [],
   "source": [
    "# Import all required libraries\n",
    "import re\n",
    "import numpy as np\n",
    "import pandas as pd\n",
    "import math\n",
    "import random\n",
    "import tensorflow as tf\n",
    "from tensorflow.keras import layers\n",
    "import bert\n",
    "from transformers import DistilBertTokenizer, RobertaTokenizer, TFRobertaModel,RobertaConfig\n",
    "from transformers import AutoTokenizer, AutoModel, pipeline, TFDistilBertModel, DistilBertConfig\n",
    "import os\n",
    "import torch\n",
    "from torch import nn, optim\n",
    "from torch.utils.data import Dataset, DataLoader \n",
    "from transformers import AdamW, get_linear_schedule_with_warmup\n",
    "from matplotlib import rc\n",
    "from sklearn.model_selection import train_test_split\n",
    "from sklearn.metrics import confusion_matrix, classification_report\n",
    "from collections import defaultdict\n",
    "from textwrap import wrap"
   ]
  },
  {
   "cell_type": "code",
   "execution_count": 2,
   "metadata": {},
   "outputs": [],
   "source": [
    "tokenizer = AutoTokenizer.from_pretrained(\"emilyalsentzer/Bio_ClinicalBERT\")"
   ]
  },
  {
   "cell_type": "code",
   "execution_count": 3,
   "metadata": {},
   "outputs": [],
   "source": [
    "MAX_LEN = 512\n",
    "RANDOM_SEED = 42\n",
    "np.random.seed(RANDOM_SEED)\n",
    "torch.manual_seed(RANDOM_SEED)\n",
    "device = torch.device(\"cuda:0\" if torch.cuda.is_available() else \"cpu\")"
   ]
  },
  {
   "cell_type": "code",
   "execution_count": 4,
   "metadata": {},
   "outputs": [],
   "source": [
    "## Function to clean the data\n",
    "def clean_data(record):\n",
    "    # Removing the first few header lines\n",
    "    record = re.sub(r\"Sample Name: .*\\n\", '', record)\n",
    "    record = re.sub(r\"Description: .*\\n\", '', record)\n",
    "    record = re.sub(r\"\\(Medical Transcription Sample Report\\)\\n\", '', record)\n",
    "    # Removing additional some special characters, whitespaces and end of lines\n",
    "    record = re.sub(r\"[-:]+\", ' ', record)\n",
    "    record = re.sub(r\"\\n+\", ' ', record)\n",
    "    record = re.sub(r\" +\", ' ', record)\n",
    "    return record"
   ]
  },
  {
   "cell_type": "code",
   "execution_count": 6,
   "metadata": {},
   "outputs": [],
   "source": [
    "def to_category(rating):\n",
    "    if rating == 'Blue':\n",
    "        return 0\n",
    "    elif rating == 'Green':\n",
    "        return 1\n",
    "    elif rating == 'Orange':\n",
    "        return 2\n",
    "    elif rating == 'Red':\n",
    "        return 3\n",
    "    else:\n",
    "        return 4"
   ]
  },
  {
   "cell_type": "code",
   "execution_count": 7,
   "metadata": {},
   "outputs": [
    {
     "data": {
      "text/plain": [
       "<bound method NDFrame.head of      Record Id Category                                        Description  \\\n",
       "0          101   Yellow  Sample Name: A 5-month-old boy with cough\\nDes...   \n",
       "1          102   Yellow  Sample Name: Abdominal Pain - Consult\\nDescrip...   \n",
       "2          103   Yellow  Sample Name: Abnormal Echocardiogram\\nDescript...   \n",
       "3          104      Red  Sample Name: Abnormal Stress Test\\nDescription...   \n",
       "4          105   Yellow  Sample Name: Abrasions & Lacerations - ER Visi...   \n",
       "..         ...      ...                                                ...   \n",
       "511       5202     Blue  Sample Name: Well-Child Check - 7\\n\\nDescripti...   \n",
       "512       5203     Blue  Sample Name: Well-woman checkup\\n\\nDescription...   \n",
       "513       5204    Green  Sample Name: Worker's Compensation Injury\\n\\nD...   \n",
       "514       5205   Yellow  Sample Name: Wound Care Consult\\n\\nDescription...   \n",
       "515       5206   Yellow  Sample Name: Wrist Pain\\n\\nDescription: Consul...   \n",
       "\n",
       "                                                  Plan  \n",
       "0    ASSESSMENT: A 5-month-old male with 2 days of ...  \n",
       "1    DIAGNOSTIC STUDIES: EKG shows normal sinus rhy...  \n",
       "2    IMPRESSION:\\n1. The patient admitted for gastr...  \n",
       "3    CONDITION ON TRANSFER: Stable but guarded. The...  \n",
       "4    \\n\\nPLANS/RECOMMENDATIONS: Admitted for observ...  \n",
       "..                                                 ...  \n",
       "511  ASSESSMENT: Well child check.\\n\\nPLAN:\\n1. Die...  \n",
       "512  ASSESSMENT: Middle-aged woman  status post hys...  \n",
       "513  ASSESSMENT: Blunt trauma to the distal right t...  \n",
       "514  SUMMARY: In summary  the patient is a 62-year-...  \n",
       "515  EVALUATION/TREATMENT PLAN: The MRI is consiste...  \n",
       "\n",
       "[516 rows x 4 columns]>"
      ]
     },
     "execution_count": 7,
     "metadata": {},
     "output_type": "execute_result"
    }
   ],
   "source": [
    "# Reading the data\n",
    "df = pd.read_csv(\"clinicalnotes.csv\")\n",
    "df.head"
   ]
  },
  {
   "cell_type": "code",
   "execution_count": 8,
   "metadata": {},
   "outputs": [
    {
     "data": {
      "text/plain": [
       "<bound method NDFrame.head of      Record Id Category                                        Description  \\\n",
       "0          101   Yellow  Sample Name: A 5-month-old boy with cough\\nDes...   \n",
       "1          102   Yellow  Sample Name: Abdominal Pain - Consult\\nDescrip...   \n",
       "2          103   Yellow  Sample Name: Abnormal Echocardiogram\\nDescript...   \n",
       "3          104      Red  Sample Name: Abnormal Stress Test\\nDescription...   \n",
       "4          105   Yellow  Sample Name: Abrasions & Lacerations - ER Visi...   \n",
       "..         ...      ...                                                ...   \n",
       "511       5202     Blue  Sample Name: Well-Child Check - 7\\n\\nDescripti...   \n",
       "512       5203     Blue  Sample Name: Well-woman checkup\\n\\nDescription...   \n",
       "513       5204    Green  Sample Name: Worker's Compensation Injury\\n\\nD...   \n",
       "514       5205   Yellow  Sample Name: Wound Care Consult\\n\\nDescription...   \n",
       "515       5206   Yellow  Sample Name: Wrist Pain\\n\\nDescription: Consul...   \n",
       "\n",
       "                                                  Plan  Blue  Green  Orange  \\\n",
       "0    ASSESSMENT: A 5-month-old male with 2 days of ...     0      0       0   \n",
       "1    DIAGNOSTIC STUDIES: EKG shows normal sinus rhy...     0      0       0   \n",
       "2    IMPRESSION:\\n1. The patient admitted for gastr...     0      0       0   \n",
       "3    CONDITION ON TRANSFER: Stable but guarded. The...     0      0       0   \n",
       "4    \\n\\nPLANS/RECOMMENDATIONS: Admitted for observ...     0      0       0   \n",
       "..                                                 ...   ...    ...     ...   \n",
       "511  ASSESSMENT: Well child check.\\n\\nPLAN:\\n1. Die...     1      0       0   \n",
       "512  ASSESSMENT: Middle-aged woman  status post hys...     1      0       0   \n",
       "513  ASSESSMENT: Blunt trauma to the distal right t...     0      1       0   \n",
       "514  SUMMARY: In summary  the patient is a 62-year-...     0      0       0   \n",
       "515  EVALUATION/TREATMENT PLAN: The MRI is consiste...     0      0       0   \n",
       "\n",
       "     Red  Yellow                                             review  rating  \n",
       "0      0       1  CHIEF COMPLAINT A 5 month old boy with cough. ...       4  \n",
       "1      0       1  CHIEF COMPLAINT Abdominal pain. HISTORY OF PRE...       4  \n",
       "2      0       1  REASON FOR CONSULTATION Abnormal echocardiogra...       4  \n",
       "3      1       0  HISTORY OF PRESENT ILLNESS Mr. ABC is a 60 yea...       3  \n",
       "4      0       1  HISTORY OF PRESENT ILLNESS This is a 12 year o...       4  \n",
       "..   ...     ...                                                ...     ...  \n",
       "511    0       0   SUBJECTIVE This is a 1 month old who comes in...       0  \n",
       "512    0       0   CHIEF COMPLAINT The patient comes for her wel...       0  \n",
       "513    0       0   CHIEF COMPLAINT Worker’s compensation injury....       1  \n",
       "514    0       1   TYPE OF CONSULTATION Wound care consult. HIST...       4  \n",
       "515    0       1   CHIEF COMPLAINT Left wrist pain. HISTORY OF P...       4  \n",
       "\n",
       "[516 rows x 11 columns]>"
      ]
     },
     "execution_count": 8,
     "metadata": {},
     "output_type": "execute_result"
    }
   ],
   "source": [
    "category_dummies = pd.get_dummies(df.Category)\n",
    "new_df = pd.concat([df, category_dummies], axis=1)\n",
    "new_df['review'] = df.Description.apply(clean_data)\n",
    "new_df['rating'] = df.Category.apply(to_category)\n",
    "new_df.head"
   ]
  },
  {
   "cell_type": "code",
   "execution_count": 9,
   "metadata": {},
   "outputs": [],
   "source": [
    "final_df = new_df[['review', 'rating']]"
   ]
  },
  {
   "cell_type": "code",
   "execution_count": 10,
   "metadata": {},
   "outputs": [],
   "source": [
    "df_train, df_test = train_test_split(\n",
    "                                  final_df,\n",
    "                                  test_size=0.2,\n",
    "                                  random_state=RANDOM_SEED)\n",
    "df_val, df_test = train_test_split(\n",
    "                                  df_test,\n",
    "                                  test_size=0.5,\n",
    "                                  random_state=RANDOM_SEED)"
   ]
  },
  {
   "cell_type": "code",
   "execution_count": 11,
   "metadata": {},
   "outputs": [
    {
     "name": "stdout",
     "output_type": "stream",
     "text": [
      "412\n",
      "52\n",
      "52\n"
     ]
    }
   ],
   "source": [
    "#Print length of dataset\n",
    "print(len(df_train))\n",
    "print(len(df_val))\n",
    "print(len(df_test))"
   ]
  },
  {
   "cell_type": "code",
   "execution_count": 12,
   "metadata": {},
   "outputs": [],
   "source": [
    "class GPReviewDataset(Dataset):\n",
    "\n",
    "    def __init__(self, reviews, targets, tokenizer, max_len):\n",
    "        self.reviews = reviews\n",
    "        self.targets = targets\n",
    "        self.tokenizer = tokenizer\n",
    "        self.max_len = max_len\n",
    "\n",
    "    def __len__(self):\n",
    "        return len(self.reviews)\n",
    "\n",
    "    def __getitem__(self, item):\n",
    "        review = str(self.reviews[item])\n",
    "        target = self.targets[item]\n",
    "\n",
    "        encoding = self.tokenizer.encode_plus(\n",
    "                                          review,\n",
    "                                          add_special_tokens=True,\n",
    "                                          max_length=self.max_len,\n",
    "                                          return_token_type_ids=False,\n",
    "                                          pad_to_max_length=True,\n",
    "                                          return_attention_mask=True,\n",
    "                                          truncation=True,\n",
    "                                          return_tensors='pt',\n",
    "                                        )\n",
    "\n",
    "        return {\n",
    "          'review_text': review,\n",
    "          'input_ids': encoding['input_ids'].flatten(),\n",
    "          'attention_mask': encoding['attention_mask'].flatten(),\n",
    "          'targets': torch.tensor(target, dtype=torch.long)\n",
    "          }"
   ]
  },
  {
   "cell_type": "code",
   "execution_count": 13,
   "metadata": {},
   "outputs": [],
   "source": [
    "def create_data_loader(df, tokenizer, max_len, batch_size):\n",
    "    ds = GPReviewDataset(\n",
    "    reviews=df.review.to_numpy(),\n",
    "    targets=df.rating.to_numpy(),\n",
    "    tokenizer=tokenizer,\n",
    "    max_len=max_len\n",
    "    )\n",
    "    return DataLoader(\n",
    "                    ds,\n",
    "                    batch_size=batch_size,\n",
    "                    num_workers=4)\n",
    "  "
   ]
  },
  {
   "cell_type": "code",
   "execution_count": 14,
   "metadata": {},
   "outputs": [],
   "source": [
    "BATCH_SIZE = 16\n",
    "\n",
    "train_data_loader = create_data_loader(df_train, tokenizer, MAX_LEN, BATCH_SIZE)\n",
    "val_data_loader = create_data_loader(df_val, tokenizer, MAX_LEN, BATCH_SIZE)\n",
    "test_data_loader = create_data_loader(df_test, tokenizer, MAX_LEN, BATCH_SIZE)"
   ]
  },
  {
   "cell_type": "code",
   "execution_count": 15,
   "metadata": {},
   "outputs": [
    {
     "name": "stdout",
     "output_type": "stream",
     "text": [
      "dict_keys(['review_text', 'input_ids', 'attention_mask', 'targets'])\n",
      "torch.Size([16, 512])\n",
      "torch.Size([16, 512])\n",
      "torch.Size([16])\n"
     ]
    }
   ],
   "source": [
    "# Checking sample data\n",
    "data = next(iter(train_data_loader))\n",
    "print(data.keys())\n",
    "print(data['input_ids'].shape)\n",
    "print(data['attention_mask'].shape)\n",
    "print(data['targets'].shape)"
   ]
  },
  {
   "cell_type": "code",
   "execution_count": 16,
   "metadata": {},
   "outputs": [],
   "source": [
    "class TriageClassifier(nn.Module):\n",
    "\n",
    "    def __init__(self, n_classes):\n",
    "        super(TriageClassifier, self).__init__()\n",
    "        self.bert = AutoModel.from_pretrained(\"emilyalsentzer/Bio_ClinicalBERT\")\n",
    "        self.drop = nn.Dropout(p=0.3)\n",
    "        self.out = nn.Linear(self.bert.config.hidden_size, n_classes)\n",
    "\n",
    "    def forward(self, input_ids, attention_mask):\n",
    "        _, pooled_output = self.bert(\n",
    "                          input_ids=input_ids,\n",
    "                          attention_mask=attention_mask)\n",
    "        output = self.drop(pooled_output)\n",
    "        return self.out(output)"
   ]
  },
  {
   "cell_type": "code",
   "execution_count": 17,
   "metadata": {},
   "outputs": [
    {
     "name": "stderr",
     "output_type": "stream",
     "text": [
      "Some weights of BertModel were not initialized from the model checkpoint at emilyalsentzer/Bio_ClinicalBERT and are newly initialized: ['bert.embeddings.position_ids']\n",
      "You should probably TRAIN this model on a down-stream task to be able to use it for predictions and inference.\n"
     ]
    }
   ],
   "source": [
    "no_of_classes = 5\n",
    "model = TriageClassifier(no_of_classes)\n",
    "model = model.to(device)"
   ]
  },
  {
   "cell_type": "code",
   "execution_count": 18,
   "metadata": {},
   "outputs": [
    {
     "name": "stdout",
     "output_type": "stream",
     "text": [
      "torch.Size([16, 512])\n",
      "torch.Size([16, 512])\n"
     ]
    }
   ],
   "source": [
    "# Check example \n",
    "input_ids = data['input_ids'].to(device)\n",
    "attention_mask = data['attention_mask'].to(device)\n",
    "\n",
    "print(input_ids.shape) # batch size x seq length\n",
    "print(attention_mask.shape) # batch size x seq length"
   ]
  },
  {
   "cell_type": "code",
   "execution_count": 19,
   "metadata": {},
   "outputs": [
    {
     "data": {
      "text/plain": [
       "tensor([[0.2174, 0.2555, 0.2094, 0.0931, 0.2246],\n",
       "        [0.1918, 0.2198, 0.2092, 0.1900, 0.1891],\n",
       "        [0.2262, 0.1287, 0.2700, 0.1444, 0.2306],\n",
       "        [0.1304, 0.1265, 0.2323, 0.1803, 0.3304],\n",
       "        [0.1761, 0.1657, 0.2509, 0.1668, 0.2406],\n",
       "        [0.2456, 0.2253, 0.1696, 0.1278, 0.2317],\n",
       "        [0.1806, 0.2641, 0.2291, 0.1187, 0.2075],\n",
       "        [0.1654, 0.1726, 0.2655, 0.1637, 0.2327],\n",
       "        [0.1929, 0.1235, 0.2101, 0.2504, 0.2230],\n",
       "        [0.2388, 0.1409, 0.1675, 0.1444, 0.3084],\n",
       "        [0.1402, 0.2100, 0.2505, 0.1481, 0.2511],\n",
       "        [0.1696, 0.1785, 0.2979, 0.1620, 0.1920],\n",
       "        [0.1543, 0.2483, 0.1789, 0.1171, 0.3015],\n",
       "        [0.1613, 0.2181, 0.2861, 0.1856, 0.1488],\n",
       "        [0.2651, 0.2314, 0.2021, 0.1050, 0.1964],\n",
       "        [0.2056, 0.1883, 0.2109, 0.1263, 0.2690]], grad_fn=<SoftmaxBackward>)"
      ]
     },
     "execution_count": 19,
     "metadata": {},
     "output_type": "execute_result"
    }
   ],
   "source": [
    "# Sample prediction\n",
    "nn.functional.softmax(model(input_ids, attention_mask), dim=1)"
   ]
  },
  {
   "cell_type": "code",
   "execution_count": 20,
   "metadata": {},
   "outputs": [],
   "source": [
    "EPOCHS = 10\n",
    "\n",
    "optimizer = AdamW(model.parameters(), lr=2e-5, correct_bias=False)\n",
    "total_steps = len(train_data_loader) * EPOCHS\n",
    "\n",
    "scheduler = get_linear_schedule_with_warmup(\n",
    "                          optimizer,\n",
    "                          num_warmup_steps=0,\n",
    "                          num_training_steps=total_steps)\n",
    "\n",
    "loss_fn = nn.CrossEntropyLoss().to(device)"
   ]
  },
  {
   "cell_type": "code",
   "execution_count": 21,
   "metadata": {},
   "outputs": [],
   "source": [
    "def train_epoch(\n",
    "                model,\n",
    "                data_loader,\n",
    "                loss_fn,\n",
    "                optimizer,\n",
    "                device,\n",
    "                scheduler,\n",
    "                n_examples):\n",
    "    model = model.train()\n",
    "    #print(\"training examples\",n_examples)\n",
    "\n",
    "    losses = []\n",
    "    correct_predictions = 0\n",
    "\n",
    "    for d in data_loader:\n",
    "        input_ids = d[\"input_ids\"].to(device)\n",
    "        attention_mask = d[\"attention_mask\"].to(device)\n",
    "        targets = d[\"targets\"].to(device)\n",
    "        #print(\"Target: \",targets)\n",
    "\n",
    "        outputs = model(input_ids=input_ids,\n",
    "                      attention_mask=attention_mask)\n",
    "\n",
    "        _, preds = torch.max(outputs, dim=1)\n",
    "        #print(\"Prediction\",preds)\n",
    "        loss = loss_fn(outputs, targets)\n",
    "\n",
    "        correct_predictions += torch.sum(preds == targets)\n",
    "        losses.append(loss.item())\n",
    "\n",
    "        loss.backward()\n",
    "        nn.utils.clip_grad_norm_(model.parameters(), max_norm=1.0)\n",
    "        optimizer.step()\n",
    "        scheduler.step()\n",
    "        optimizer.zero_grad()\n",
    "\n",
    "    return correct_predictions.double() / n_examples, np.mean(losses)"
   ]
  },
  {
   "cell_type": "code",
   "execution_count": 22,
   "metadata": {},
   "outputs": [],
   "source": [
    "def eval_model(model, data_loader, loss_fn, device, n_examples):\n",
    "    model = model.eval()\n",
    "\n",
    "    losses = []\n",
    "    correct_predictions = 0\n",
    "    #print(\"validation examples\",n_examples)\n",
    "\n",
    "    with torch.no_grad():\n",
    "        for d in data_loader:\n",
    "            input_ids = d[\"input_ids\"].to(device)\n",
    "            attention_mask = d[\"attention_mask\"].to(device)\n",
    "            targets = d[\"targets\"].to(device)\n",
    "            #print(\"Target: \",targets)\n",
    "\n",
    "            outputs = model(input_ids=input_ids,\n",
    "                            attention_mask=attention_mask)\n",
    "            _, preds = torch.max(outputs, dim=1)\n",
    "            #print(\"Prediction\",preds)\n",
    "\n",
    "            loss = loss_fn(outputs, targets)\n",
    "\n",
    "            correct_predictions += torch.sum(preds == targets)\n",
    "            #print(correct_predictions.double())\n",
    "            losses.append(loss.item())\n",
    "\n",
    "    return correct_predictions.double() / n_examples, np.mean(losses)"
   ]
  },
  {
   "cell_type": "code",
   "execution_count": 23,
   "metadata": {},
   "outputs": [
    {
     "name": "stdout",
     "output_type": "stream",
     "text": [
      "Epoch 1/10\n",
      "----------\n",
      "Train loss 1.478151486470149 accuracy 0.3058252427184466\n",
      "Val   loss 1.4035188853740692 accuracy 0.38461538461538464\n",
      "\n",
      "Epoch 2/10\n",
      "----------\n",
      "Train loss 1.269127687582603 accuracy 0.47572815533980584\n",
      "Val   loss 1.1138008087873459 accuracy 0.5\n",
      "\n",
      "Epoch 3/10\n",
      "----------\n",
      "Train loss 1.1040200430613298 accuracy 0.5364077669902912\n",
      "Val   loss 1.1490154266357422 accuracy 0.6153846153846154\n",
      "\n",
      "Epoch 4/10\n",
      "----------\n",
      "Train loss 0.8742456573706406 accuracy 0.633495145631068\n",
      "Val   loss 1.3449214547872543 accuracy 0.5384615384615384\n",
      "\n",
      "Epoch 5/10\n",
      "----------\n",
      "Train loss 0.6594629207482705 accuracy 0.7378640776699029\n",
      "Val   loss 1.3739869445562363 accuracy 0.6346153846153846\n",
      "\n",
      "Epoch 6/10\n",
      "----------\n",
      "Train loss 0.45774763134809643 accuracy 0.8398058252427184\n",
      "Val   loss 1.6569649577140808 accuracy 0.5961538461538461\n",
      "\n",
      "Epoch 7/10\n",
      "----------\n",
      "Train loss 0.27609571184103304 accuracy 0.9223300970873787\n",
      "Val   loss 1.791590616106987 accuracy 0.5384615384615384\n",
      "\n",
      "Epoch 8/10\n",
      "----------\n",
      "Train loss 0.17032284346910623 accuracy 0.9635922330097088\n",
      "Val   loss 1.9822978377342224 accuracy 0.5192307692307693\n",
      "\n",
      "Epoch 9/10\n",
      "----------\n",
      "Train loss 0.13231817747537905 accuracy 0.9854368932038835\n",
      "Val   loss 1.9004123955965042 accuracy 0.5769230769230769\n",
      "\n",
      "Epoch 10/10\n",
      "----------\n",
      "Train loss 0.10609392549556035 accuracy 0.9854368932038835\n",
      "Val   loss 1.8096098899841309 accuracy 0.6923076923076923\n",
      "\n",
      "CPU times: user 6h 59min 16s, sys: 1h 22min 17s, total: 8h 21min 34s\n",
      "Wall time: 1h 45min 54s\n"
     ]
    }
   ],
   "source": [
    "%%time\n",
    "\n",
    "history = defaultdict(list)\n",
    "best_accuracy = 0\n",
    "\n",
    "for epoch in range(EPOCHS):\n",
    "    print(f'Epoch {epoch + 1}/{EPOCHS}')\n",
    "    print('-' * 10)\n",
    "    train_acc, train_loss = train_epoch(\n",
    "                            model,\n",
    "                            train_data_loader,\n",
    "                            loss_fn,\n",
    "                            optimizer,\n",
    "                            device,\n",
    "                            scheduler,\n",
    "                            len(df_train))\n",
    "    print(f'Train loss {train_loss} accuracy {train_acc}')\n",
    "    val_acc, val_loss = eval_model(\n",
    "                                model,\n",
    "                                val_data_loader,\n",
    "                                loss_fn,\n",
    "                                device,\n",
    "                                len(df_val)\n",
    "                                )\n",
    "    print(f'Val   loss {val_loss} accuracy {val_acc}')\n",
    "    print()\n",
    "\n",
    "    history['train_acc'].append(train_acc)\n",
    "    history['train_loss'].append(train_loss)\n",
    "    history['val_acc'].append(val_acc)\n",
    "    history['val_loss'].append(val_loss)\n",
    "\n",
    "    if val_acc > best_accuracy:\n",
    "        torch.save(model.state_dict(), 'best_model_state.bin')\n",
    "        best_accuracy = val_acc"
   ]
  },
  {
   "cell_type": "code",
   "execution_count": 27,
   "metadata": {},
   "outputs": [
    {
     "data": {
      "image/png": "[encoded data removed]",
      "text/plain": [
       "<Figure size 432x288 with 1 Axes>"
      ]
     },
     "metadata": {
      "needs_background": "light"
     },
     "output_type": "display_data"
    }
   ],
   "source": [
    "import matplotlib.pyplot as plt\n",
    "\n",
    "plt.plot(history['train_acc'], label='train accuracy')\n",
    "plt.plot(history['val_acc'], label='validation accuracy')\n",
    "plt.plot(history['train_loss'], label='training loss')\n",
    "plt.plot(history['val_loss'], label='validation loss')\n",
    "\n",
    "plt.title('Training history')\n",
    "plt.ylabel('Accuracy')\n",
    "plt.xlabel('Epoch')\n",
    "plt.legend()\n",
    "plt.ylim([0, 2]);"
   ]
  },
  {
   "cell_type": "code",
   "execution_count": 28,
   "metadata": {},
   "outputs": [
    {
     "name": "stdout",
     "output_type": "stream",
     "text": [
      "0.6153846153846154\n"
     ]
    }
   ],
   "source": [
    "test_acc, _ = eval_model(\n",
    "                    model,\n",
    "                    test_data_loader,\n",
    "                    loss_fn,\n",
    "                    device,\n",
    "                    len(df_test)\n",
    "                    )\n",
    "\n",
    "print(test_acc.item())"
   ]
  },
  {
   "cell_type": "code",
   "execution_count": 30,
   "metadata": {},
   "outputs": [],
   "source": [
    "def get_predictions(model, data_loader):\n",
    "    model = model.eval()\n",
    "\n",
    "    review_texts = []\n",
    "    predictions = []\n",
    "    prediction_probs = []\n",
    "    real_values = []\n",
    "\n",
    "    with torch.no_grad():\n",
    "        for d in data_loader:\n",
    "\n",
    "            texts = d[\"review_text\"]\n",
    "            input_ids = d[\"input_ids\"].to(device)\n",
    "            attention_mask = d[\"attention_mask\"].to(device)\n",
    "            targets = d[\"targets\"].to(device)\n",
    "\n",
    "            outputs = model(\n",
    "            input_ids=input_ids,\n",
    "            attention_mask=attention_mask)\n",
    "            _, preds = torch.max(outputs, dim=1)\n",
    "\n",
    "            review_texts.extend(texts)\n",
    "            predictions.extend(preds)\n",
    "            prediction_probs.extend(outputs)\n",
    "            real_values.extend(targets)\n",
    "\n",
    "    predictions = torch.stack(predictions).cpu()\n",
    "    prediction_probs = torch.stack(prediction_probs).cpu()\n",
    "    real_values = torch.stack(real_values).cpu()\n",
    "    return review_texts, predictions, prediction_probs, real_values"
   ]
  },
  {
   "cell_type": "code",
   "execution_count": 31,
   "metadata": {},
   "outputs": [],
   "source": [
    "y_review_texts, y_pred, y_pred_probs, y_test = get_predictions(\n",
    "                                                          model,\n",
    "                                                          test_data_loader)"
   ]
  },
  {
   "cell_type": "code",
   "execution_count": 33,
   "metadata": {},
   "outputs": [
    {
     "name": "stdout",
     "output_type": "stream",
     "text": [
      "              precision    recall  f1-score   support\n",
      "\n",
      "        Blue       0.67      0.57      0.62         7\n",
      "       Green       0.65      0.85      0.74        20\n",
      "      Orange       0.67      0.29      0.40         7\n",
      "         Red       1.00      0.67      0.80         3\n",
      "      Yellow       0.47      0.47      0.47        15\n",
      "\n",
      "    accuracy                           0.62        52\n",
      "   macro avg       0.69      0.57      0.60        52\n",
      "weighted avg       0.62      0.62      0.60        52\n",
      "\n"
     ]
    }
   ],
   "source": [
    "class_names=['Blue','Green','Orange','Red','Yellow']\n",
    "print(classification_report(y_test, y_pred, target_names=class_names))"
   ]
  },
  {
   "cell_type": "code",
   "execution_count": 38,
   "metadata": {},
   "outputs": [
    {
     "data": {
      "image/png": "[encoded data removed]",
      "text/plain": [
       "<Figure size 432x288 with 2 Axes>"
      ]
     },
     "metadata": {
      "needs_background": "light"
     },
     "output_type": "display_data"
    }
   ],
   "source": [
    "import seaborn as sns\n",
    "def show_confusion_matrix(confusion_matrix):\n",
    "    hmap = sns.heatmap(confusion_matrix, annot=True, fmt=\"d\", cmap=\"Blues\")\n",
    "    hmap.yaxis.set_ticklabels(hmap.yaxis.get_ticklabels(), rotation=0, ha='right')\n",
    "    hmap.xaxis.set_ticklabels(hmap.xaxis.get_ticklabels(), rotation=30, ha='right')\n",
    "    plt.ylabel('True Triage Category')\n",
    "    plt.xlabel('Predicted Triage Category')\n",
    "\n",
    "cm = confusion_matrix(y_test, y_pred)\n",
    "df_cm = pd.DataFrame(cm, index=class_names, columns=class_names)\n",
    "show_confusion_matrix(df_cm)"
   ]
  },
  {
   "cell_type": "code",
   "execution_count": null,
   "metadata": {},
   "outputs": [],
   "source": []
  }
 ],
 "metadata": {
  "kernelspec": {
   "display_name": "Python 3",
   "language": "python",
   "name": "python3"
  },
  "language_info": {
   "codemirror_mode": {
    "name": "ipython",
    "version": 3
   },
   "file_extension": ".py",
   "mimetype": "text/x-python",
   "name": "python",
   "nbconvert_exporter": "python",
   "pygments_lexer": "ipython3",
   "version": "3.7.7"
  }
 },
 "nbformat": 4,
 "nbformat_minor": 4
}
